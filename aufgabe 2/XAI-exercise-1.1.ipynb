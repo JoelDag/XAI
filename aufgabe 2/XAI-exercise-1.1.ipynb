{
 "cells": [
  {
   "cell_type": "markdown",
   "id": "c0b5585a",
   "metadata": {},
   "source": [
    "# 1 Task: Importance of Explainable Artificial Intelligence\n"
   ]
  },
  {
   "cell_type": "markdown",
   "id": "dc891e4c",
   "metadata": {},
   "source": [
    "### a. What is explainable artificial intelligence (in general)?\n",
    "\n",
    "definitions: Explainable AI (XAI) focuses on developing methods and\n",
    "frameworks to enhance the interpretability and transparency of\n",
    "AI models, bridging the gap between accuracy and explainability [Mihály, Héder (2023). \"Explainable AI: A Brief History of the Concept\"]\n",
    "\n",
    "Interpretability: “Interpretability is the degree to which a human can understand the cause of a decision.” (Biran and Cotton 2017)\n",
    "\n",
    "DARPA defines explainable AI as AI\n",
    "systems that can explain their rationale to a human user,\n",
    "characterize their strengths and weaknesses, and convey an\n",
    "understanding of how they will behave in the future (from DARPA’s Explainable\n",
    "Artificial Intelligence Program\n",
    "David Gunning, David W. Aha)\n",
    "\n",
    "own definition:\n",
    "Explainable AI is a field of AI that focusses on methods and technniques which aim to make AI systems and their decisions, its casue and results understandable to human (experts).\n",
    "\n"
   ]
  },
  {
   "cell_type": "markdown",
   "id": "326372d2",
   "metadata": {},
   "source": []
  },
  {
   "cell_type": "markdown",
   "id": "e92b0d4b",
   "metadata": {},
   "source": [
    "### b. What are potential problems of black box machine learning models (in general)?\n"
   ]
  }
 ],
 "metadata": {
  "kernelspec": {
   "display_name": ".venv",
   "language": "python",
   "name": "python3"
  },
  "language_info": {
   "codemirror_mode": {
    "name": "ipython",
    "version": 3
   },
   "file_extension": ".py",
   "mimetype": "text/x-python",
   "name": "python",
   "nbconvert_exporter": "python",
   "pygments_lexer": "ipython3",
   "version": "3.10.11"
  }
 },
 "nbformat": 4,
 "nbformat_minor": 5
}
